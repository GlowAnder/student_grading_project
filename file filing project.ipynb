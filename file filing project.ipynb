{
 "cells": [
  {
   "cell_type": "code",
   "execution_count": 9,
   "id": "8c5ffd96-c6b3-4445-ad0f-fc4a27885aa6",
   "metadata": {},
   "outputs": [],
   "source": [
    "import csv\n",
    "import pandas as pd"
   ]
  },
  {
   "cell_type": "code",
   "execution_count": 10,
   "id": "6f025846-a4b5-4b57-87e4-de594e004565",
   "metadata": {},
   "outputs": [],
   "source": [
    "class people_detailed:\n",
    "    def __init__(self): \n",
    "        while True:\n",
    "            option=input(\"option'yes' to add new details/'cancel' to stop: \").lower().strip()\n",
    "            if option=='yes':\n",
    "                ID=input('enter your ID_number: ')\n",
    "                Full_name=input('type your full name: ')\n",
    "                Gender=input('enter your gender: ')\n",
    "                Marital_status=input('Marital status: ')\n",
    "                Nationality=input('Nationality: ')\n",
    "                while True:\n",
    "                    Phone=input('Phone number,eg 09xxxxxxxx with ten numbers: ')\n",
    "                    if len(Phone)==10:\n",
    "                        break\n",
    "                    else:\n",
    "                        print('==Try again==')\n",
    "                while True:\n",
    "                    E_mail=input('personal e-mail address: ')\n",
    "                    if '@' in E_mail:\n",
    "                        break\n",
    "                    else:\n",
    "                        print('==Try again==')\n",
    "                salary=input('salary: ')\n",
    "                header=['ID','Full_name','Gender','Marital_status','Nationality','Phone','E_mail','salary']\n",
    "                data={'ID':ID,\n",
    "                          'Full_name':Full_name,\n",
    "                         'Gender':Gender,\n",
    "                         'Marital_status':Marital_status,\n",
    "                         'Nationality':Nationality,\n",
    "                         'Phone':Phone,\n",
    "                         'E_mail':E_mail,\n",
    "                         'salary':salary}\n",
    "                with open('friends_detailed.csv', \"a\", newline='') as file:\n",
    "                    filewrite = csv.DictWriter(file, delimiter=',', fieldnames=header)\n",
    "                    if file.tell() == 0:\n",
    "                        filewrite.writeheader()\n",
    "                    filewrite.writerow(data)\n",
    "                    display = pd.read_csv('friends_detailed.csv',on_bad_lines='skip')\n",
    "                    display\n",
    "                    print('friend succefully added to list')\n",
    "            elif option=='cancel':\n",
    "                print('............exiting page..............')\n",
    "                break \n",
    "# people_detailed()"
   ]
  },
  {
   "cell_type": "code",
   "execution_count": 11,
   "id": "af04ab14-a121-4de1-8641-602326a91cc5",
   "metadata": {},
   "outputs": [],
   "source": [
    "class view_details:\n",
    "    def __init__(self):\n",
    "        df=pd.read_csv('friends_detailed.csv')\n",
    "        df.columns=[column.replace(' ', '_')for column in df.columns]\n",
    "        print(df)"
   ]
  },
  {
   "cell_type": "code",
   "execution_count": 12,
   "id": "01c0f383-8bf1-4ba2-9a0a-d06556d6f91c",
   "metadata": {},
   "outputs": [],
   "source": [
    "class filtering:\n",
    "    def __init__(self):\n",
    "        df=pd.read_csv('friends_detailed.csv')\n",
    "        df.columns=[column.replace(' ', '_')for column in df.columns]\n",
    "        df.query('salary>543455 and Gender==\"Female\" ',inplace=True)\n",
    "        print(df)"
   ]
  },
  {
   "cell_type": "code",
   "execution_count": 13,
   "id": "d9496363-4505-4aeb-9d9b-dda6dcdf3b44",
   "metadata": {},
   "outputs": [],
   "source": [
    "class deleting_info:\n",
    "    def __init__(self):\n",
    "        name=input('enter the full name of the person whose information you want to delete: ')\n",
    "        self.name=name\n",
    "        df = pd.read_csv('friends_detailed.csv')\n",
    "        df.drop('Full_name', axis=1, inplace=True)\n",
    "        df = df[df['Full_name']!=self.name]\n",
    "        df.to_csv('friends_detailed.csv', index=False)\n",
    "        print('the info has been successfully deleted')"
   ]
  },
  {
   "cell_type": "code",
   "execution_count": 20,
   "id": "dc5145e0-2683-4ebd-974f-9c63382677cc",
   "metadata": {},
   "outputs": [],
   "source": [
    "class delete_information:\n",
    "    def __init__(self):\n",
    "        choice=input('enter your choice column: ')\n",
    "        data=pd.read_csv('friends_detailed.csv')\n",
    "        delt=data[data['column'=='choice']]\n",
    "        data.drop(delt)\n",
    "        print('the info has been successfully deleted')"
   ]
  },
  {
   "cell_type": "code",
   "execution_count": 21,
   "id": "773df235-f951-4771-9eea-96de9bfa99fa",
   "metadata": {},
   "outputs": [],
   "source": [
    "class updating_info:\n",
    "    def __init__(self):\n",
    "        name =input('enter the correct name of the person whose info needs to be updated: ')\n",
    "        phone_number=input('enter new number to replace the previous one: ')\n",
    "        update=data.loc[data['Full_name']==name,Phone]=phone_number\n",
    "        print('the information has been updated as requested')\n",
    "        "
   ]
  },
  {
   "cell_type": "code",
   "execution_count": null,
   "id": "f4a7d2dc-cd95-47e5-984b-9f77f106a3c2",
   "metadata": {},
   "outputs": [],
   "source": []
  },
  {
   "cell_type": "code",
   "execution_count": 22,
   "id": "6a48e708-e11c-4865-920e-23bffac03990",
   "metadata": {},
   "outputs": [],
   "source": [
    "class DeleteDuplicate:\n",
    "    def __init__(self):\n",
    "        df = pd.read_csv('friends_detailed.csv')\n",
    "        df.drop_duplicates(subset='Full_name',keep='first')\n",
    "        df.to_csv('friends_detailed.csv', index=False)\n",
    "        print('duplicate removed')\n"
   ]
  },
  {
   "cell_type": "code",
   "execution_count": 23,
   "id": "8d84d61a-4fdc-444b-a54d-616aaa9bd581",
   "metadata": {},
   "outputs": [],
   "source": [
    "# import csv\n",
    "\n",
    "# class DeleteDuplicate:\n",
    "#     def __init__(self, input_file, output_file):\n",
    "#         self.input_file = input_file\n",
    "#         self.output_file = output_file\n",
    "\n",
    "#     def remove_duplicates(self):\n",
    "#         with open(self.input_file, 'r') as infile, open(self.output_file, 'w', newline='') as outfile:\n",
    "#             reader = csv.reader(infile)\n",
    "#             writer = csv.writer(outfile)\n",
    "\n",
    "#             seen = set()  # Track rows that have been encountered\n",
    "#             for row in reader:\n",
    "#                 if tuple(row) not in seen:  # Check if the row has been encountered\n",
    "#                     writer.writerow(row)  # Write unique rows to the output file\n",
    "#                     seen.add(tuple(row))  # Mark row as seen\n"
   ]
  },
  {
   "cell_type": "code",
   "execution_count": 24,
   "id": "d43dc227-1385-41fd-ab5f-b2a4d667bddc",
   "metadata": {},
   "outputs": [],
   "source": [
    "def menu():\n",
    "    while True:\n",
    "        print('.....__welcome to our page__........')\n",
    "        print('1.detailing people')\n",
    "        print('2.view details')\n",
    "        print('3.filtering file')\n",
    "        print('4.deleting information in the file')\n",
    "        print('5.Deleting duplicates')\n",
    "        print('6.exit program')\n",
    "        choice=int(input('enter option: '))\n",
    "        if choice==1:\n",
    "            friends= people_detailed()\n",
    "            friends\n",
    "        elif choice==2:\n",
    "            details=view_details()\n",
    "            details\n",
    "        elif choice==3:\n",
    "            replacing=filtering()\n",
    "            replacing\n",
    "        elif choice==4:\n",
    "            delete=delete_information()\n",
    "            delete\n",
    "        elif choice==5:\n",
    "            DuplicateRemoval=DeleteDuplicate()\n",
    "            DuplicateRemoval\n",
    "        elif choice==6:\n",
    "            break\n",
    "            print('==exiting==......')"
   ]
  },
  {
   "cell_type": "code",
   "execution_count": 25,
   "id": "22aeabe3-9f6a-4862-9445-ed3833585a76",
   "metadata": {},
   "outputs": [
    {
     "name": "stdout",
     "output_type": "stream",
     "text": [
      ".....__welcome to our page__........\n",
      "1.detailing people\n",
      "2.view details\n",
      "3.filtering file\n",
      "4.deleting information in the file\n",
      "5.Deleting duplicates\n",
      "6.exit program\n"
     ]
    },
    {
     "name": "stdin",
     "output_type": "stream",
     "text": [
      "enter option:  4\n",
      "enter your choice column:  Shaddie Eddie\n"
     ]
    },
    {
     "ename": "KeyError",
     "evalue": "False",
     "output_type": "error",
     "traceback": [
      "\u001b[1;31m---------------------------------------------------------------------------\u001b[0m",
      "\u001b[1;31mKeyError\u001b[0m                                  Traceback (most recent call last)",
      "File \u001b[1;32m~\\AppData\\Local\\Programs\\Python\\Python313\\Lib\\site-packages\\pandas\\core\\indexes\\base.py:3805\u001b[0m, in \u001b[0;36mIndex.get_loc\u001b[1;34m(self, key)\u001b[0m\n\u001b[0;32m   3804\u001b[0m \u001b[38;5;28;01mtry\u001b[39;00m:\n\u001b[1;32m-> 3805\u001b[0m     \u001b[38;5;28;01mreturn\u001b[39;00m \u001b[38;5;28;43mself\u001b[39;49m\u001b[38;5;241;43m.\u001b[39;49m\u001b[43m_engine\u001b[49m\u001b[38;5;241;43m.\u001b[39;49m\u001b[43mget_loc\u001b[49m\u001b[43m(\u001b[49m\u001b[43mcasted_key\u001b[49m\u001b[43m)\u001b[49m\n\u001b[0;32m   3806\u001b[0m \u001b[38;5;28;01mexcept\u001b[39;00m \u001b[38;5;167;01mKeyError\u001b[39;00m \u001b[38;5;28;01mas\u001b[39;00m err:\n",
      "File \u001b[1;32mindex.pyx:167\u001b[0m, in \u001b[0;36mpandas._libs.index.IndexEngine.get_loc\u001b[1;34m()\u001b[0m\n",
      "File \u001b[1;32mindex.pyx:196\u001b[0m, in \u001b[0;36mpandas._libs.index.IndexEngine.get_loc\u001b[1;34m()\u001b[0m\n",
      "File \u001b[1;32mpandas\\\\_libs\\\\hashtable_class_helper.pxi:7081\u001b[0m, in \u001b[0;36mpandas._libs.hashtable.PyObjectHashTable.get_item\u001b[1;34m()\u001b[0m\n",
      "File \u001b[1;32mpandas\\\\_libs\\\\hashtable_class_helper.pxi:7089\u001b[0m, in \u001b[0;36mpandas._libs.hashtable.PyObjectHashTable.get_item\u001b[1;34m()\u001b[0m\n",
      "\u001b[1;31mKeyError\u001b[0m: False",
      "\nThe above exception was the direct cause of the following exception:\n",
      "\u001b[1;31mKeyError\u001b[0m                                  Traceback (most recent call last)",
      "Cell \u001b[1;32mIn[25], line 1\u001b[0m\n\u001b[1;32m----> 1\u001b[0m \u001b[43mmenu\u001b[49m\u001b[43m(\u001b[49m\u001b[43m)\u001b[49m\n",
      "Cell \u001b[1;32mIn[24], line 21\u001b[0m, in \u001b[0;36mmenu\u001b[1;34m()\u001b[0m\n\u001b[0;32m     19\u001b[0m     replacing\n\u001b[0;32m     20\u001b[0m \u001b[38;5;28;01melif\u001b[39;00m choice\u001b[38;5;241m==\u001b[39m\u001b[38;5;241m4\u001b[39m:\n\u001b[1;32m---> 21\u001b[0m     delete\u001b[38;5;241m=\u001b[39m\u001b[43mdelete_information\u001b[49m\u001b[43m(\u001b[49m\u001b[43m)\u001b[49m\n\u001b[0;32m     22\u001b[0m     delete\n\u001b[0;32m     23\u001b[0m \u001b[38;5;28;01melif\u001b[39;00m choice\u001b[38;5;241m==\u001b[39m\u001b[38;5;241m5\u001b[39m:\n",
      "Cell \u001b[1;32mIn[20], line 5\u001b[0m, in \u001b[0;36mdelete_information.__init__\u001b[1;34m(self)\u001b[0m\n\u001b[0;32m      3\u001b[0m choice\u001b[38;5;241m=\u001b[39m\u001b[38;5;28minput\u001b[39m(\u001b[38;5;124m'\u001b[39m\u001b[38;5;124menter your choice column: \u001b[39m\u001b[38;5;124m'\u001b[39m)\n\u001b[0;32m      4\u001b[0m data\u001b[38;5;241m=\u001b[39mpd\u001b[38;5;241m.\u001b[39mread_csv(\u001b[38;5;124m'\u001b[39m\u001b[38;5;124mfriends_detailed.csv\u001b[39m\u001b[38;5;124m'\u001b[39m)\n\u001b[1;32m----> 5\u001b[0m delt\u001b[38;5;241m=\u001b[39mdata[\u001b[43mdata\u001b[49m\u001b[43m[\u001b[49m\u001b[38;5;124;43m'\u001b[39;49m\u001b[38;5;124;43mcolumn\u001b[39;49m\u001b[38;5;124;43m'\u001b[39;49m\u001b[38;5;241;43m==\u001b[39;49m\u001b[38;5;124;43m'\u001b[39;49m\u001b[38;5;124;43mchoice\u001b[39;49m\u001b[38;5;124;43m'\u001b[39;49m\u001b[43m]\u001b[49m]\n\u001b[0;32m      6\u001b[0m data\u001b[38;5;241m.\u001b[39mdrop(delt)\n\u001b[0;32m      7\u001b[0m \u001b[38;5;28mprint\u001b[39m(\u001b[38;5;124m'\u001b[39m\u001b[38;5;124mthe info has been successfully deleted\u001b[39m\u001b[38;5;124m'\u001b[39m)\n",
      "File \u001b[1;32m~\\AppData\\Local\\Programs\\Python\\Python313\\Lib\\site-packages\\pandas\\core\\frame.py:4102\u001b[0m, in \u001b[0;36mDataFrame.__getitem__\u001b[1;34m(self, key)\u001b[0m\n\u001b[0;32m   4100\u001b[0m \u001b[38;5;28;01mif\u001b[39;00m \u001b[38;5;28mself\u001b[39m\u001b[38;5;241m.\u001b[39mcolumns\u001b[38;5;241m.\u001b[39mnlevels \u001b[38;5;241m>\u001b[39m \u001b[38;5;241m1\u001b[39m:\n\u001b[0;32m   4101\u001b[0m     \u001b[38;5;28;01mreturn\u001b[39;00m \u001b[38;5;28mself\u001b[39m\u001b[38;5;241m.\u001b[39m_getitem_multilevel(key)\n\u001b[1;32m-> 4102\u001b[0m indexer \u001b[38;5;241m=\u001b[39m \u001b[38;5;28;43mself\u001b[39;49m\u001b[38;5;241;43m.\u001b[39;49m\u001b[43mcolumns\u001b[49m\u001b[38;5;241;43m.\u001b[39;49m\u001b[43mget_loc\u001b[49m\u001b[43m(\u001b[49m\u001b[43mkey\u001b[49m\u001b[43m)\u001b[49m\n\u001b[0;32m   4103\u001b[0m \u001b[38;5;28;01mif\u001b[39;00m is_integer(indexer):\n\u001b[0;32m   4104\u001b[0m     indexer \u001b[38;5;241m=\u001b[39m [indexer]\n",
      "File \u001b[1;32m~\\AppData\\Local\\Programs\\Python\\Python313\\Lib\\site-packages\\pandas\\core\\indexes\\base.py:3812\u001b[0m, in \u001b[0;36mIndex.get_loc\u001b[1;34m(self, key)\u001b[0m\n\u001b[0;32m   3807\u001b[0m     \u001b[38;5;28;01mif\u001b[39;00m \u001b[38;5;28misinstance\u001b[39m(casted_key, \u001b[38;5;28mslice\u001b[39m) \u001b[38;5;129;01mor\u001b[39;00m (\n\u001b[0;32m   3808\u001b[0m         \u001b[38;5;28misinstance\u001b[39m(casted_key, abc\u001b[38;5;241m.\u001b[39mIterable)\n\u001b[0;32m   3809\u001b[0m         \u001b[38;5;129;01mand\u001b[39;00m \u001b[38;5;28many\u001b[39m(\u001b[38;5;28misinstance\u001b[39m(x, \u001b[38;5;28mslice\u001b[39m) \u001b[38;5;28;01mfor\u001b[39;00m x \u001b[38;5;129;01min\u001b[39;00m casted_key)\n\u001b[0;32m   3810\u001b[0m     ):\n\u001b[0;32m   3811\u001b[0m         \u001b[38;5;28;01mraise\u001b[39;00m InvalidIndexError(key)\n\u001b[1;32m-> 3812\u001b[0m     \u001b[38;5;28;01mraise\u001b[39;00m \u001b[38;5;167;01mKeyError\u001b[39;00m(key) \u001b[38;5;28;01mfrom\u001b[39;00m\u001b[38;5;250m \u001b[39m\u001b[38;5;21;01merr\u001b[39;00m\n\u001b[0;32m   3813\u001b[0m \u001b[38;5;28;01mexcept\u001b[39;00m \u001b[38;5;167;01mTypeError\u001b[39;00m:\n\u001b[0;32m   3814\u001b[0m     \u001b[38;5;66;03m# If we have a listlike key, _check_indexing_error will raise\u001b[39;00m\n\u001b[0;32m   3815\u001b[0m     \u001b[38;5;66;03m#  InvalidIndexError. Otherwise we fall through and re-raise\u001b[39;00m\n\u001b[0;32m   3816\u001b[0m     \u001b[38;5;66;03m#  the TypeError.\u001b[39;00m\n\u001b[0;32m   3817\u001b[0m     \u001b[38;5;28mself\u001b[39m\u001b[38;5;241m.\u001b[39m_check_indexing_error(key)\n",
      "\u001b[1;31mKeyError\u001b[0m: False"
     ]
    }
   ],
   "source": [
    "menu()"
   ]
  },
  {
   "cell_type": "code",
   "execution_count": null,
   "id": "f2b6833f-6a2c-49f1-862c-c21b174d4f0d",
   "metadata": {},
   "outputs": [],
   "source": [
    "import pandas as pd\n",
    "\n",
    "data = {'Name': [], 'Age': [], 'Location': []}\n",
    "df = pd.DataFrame(data)\n",
    "df.to_csv('friends_detailed.csv', index=False)\n"
   ]
  },
  {
   "cell_type": "code",
   "execution_count": null,
   "id": "e05aef78-ed79-4897-b0e7-f5ff0dcc8727",
   "metadata": {},
   "outputs": [],
   "source": []
  }
 ],
 "metadata": {
  "kernelspec": {
   "display_name": "Python 3 (ipykernel)",
   "language": "python",
   "name": "python3"
  },
  "language_info": {
   "codemirror_mode": {
    "name": "ipython",
    "version": 3
   },
   "file_extension": ".py",
   "mimetype": "text/x-python",
   "name": "python",
   "nbconvert_exporter": "python",
   "pygments_lexer": "ipython3",
   "version": "3.13.2"
  }
 },
 "nbformat": 4,
 "nbformat_minor": 5
}
