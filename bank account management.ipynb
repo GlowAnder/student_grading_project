{
 "cells": [
  {
   "cell_type": "code",
   "execution_count": 2,
   "id": "c13519a2-03ab-4cce-83e8-e5662d4d61d9",
   "metadata": {},
   "outputs": [],
   "source": [
    "import pandas as pd\n",
    "import csv"
   ]
  },
  {
   "cell_type": "code",
   "execution_count": 3,
   "id": "b1d606d5-1e3f-4bf7-8fed-0d7401491623",
   "metadata": {},
   "outputs": [],
   "source": [
    "def creating_account():\n",
    "    name=input('enter your full name: ')\n",
    "    national_id_number=input('enter your id number')\n",
    "    gender=input('gender: ')\n",
    "    phone=input('phone number: ')\n",
    "    nation=input('Nation: ')\n",
    "    source_of_money=input('what is your source of money')\n",
    "    Email=input('enter your email address: ')\n",
    "    import random  \n",
    "    for i in range(1000000000):\n",
    "       account_number= random.randint(1, 1000000000)  \n",
    "       print(f\"account number {i + 1}: {account_number}\")\n",
    "       break\n",
    "    amount=input('enter the amount you have :')\n",
    "    data={'name':name,'ID':national_id_number,'gender':gender,'phone_number':phone,'nation':nation,'income_source':source_of_money,'E_mail':Email,'amount':amount,'account_no':account_number}\n",
    "    fieldnames=['name','ID','gender','phone_number','nation','income_source','E_mail','amount','account_no']\n",
    "# with open('Bank account management.csv',\"a\")as file:\n",
    "#     filewrite=csv.DictWriter(file,delimiter=',',fieldnames=data)\n",
    "    with open('Bank account management.csv', \"a\", newline='') as file:\n",
    "        filewrite = csv.DictWriter(file, delimiter=',', fieldnames=fieldnames)\n",
    "        if file.tell() == 0:\n",
    "            filewrite.writeheader()\n",
    "        filewrite.writerow(data)\n",
    "    display=pd.read_csv('Bank account management.csv')\n",
    "    display\n",
    "    print(f'your account has been successfully created,your account number is {account_number}')"
   ]
  },
  {
   "cell_type": "code",
   "execution_count": 4,
   "id": "a080bdea-022f-4992-b2f6-cbc608dcf76c",
   "metadata": {},
   "outputs": [
    {
     "name": "stdin",
     "output_type": "stream",
     "text": [
      "enter your full name:  Mercy Phiri\n",
      "enter your id number 509\n",
      "gender:  Female\n",
      "phone number:  0975766453876\n",
      "Nation:  Malawi\n",
      "what is your source of money salary\n",
      "enter your email address:  mer376@gmail.com\n"
     ]
    },
    {
     "name": "stdout",
     "output_type": "stream",
     "text": [
      "account number 1: 175133149\n"
     ]
    },
    {
     "name": "stdin",
     "output_type": "stream",
     "text": [
      "enter the amount you have : 650000\n"
     ]
    },
    {
     "name": "stdout",
     "output_type": "stream",
     "text": [
      "your account has been successfully created,your account number is 175133149\n"
     ]
    }
   ],
   "source": [
    "creating_account()"
   ]
  },
  {
   "cell_type": "code",
   "execution_count": 18,
   "id": "18f53bc3-5fb0-4d09-872d-82b6c6edb8ec",
   "metadata": {},
   "outputs": [
    {
     "name": "stdin",
     "output_type": "stream",
     "text": [
      "Enter your account number:  175133149\n",
      "Enter amount to deposit:  50000\n"
     ]
    },
    {
     "name": "stdout",
     "output_type": "stream",
     "text": [
      "Error: 'account_number' column missing!\n"
     ]
    }
   ],
   "source": [
    "import pandas as pd\n",
    "\n",
    "def depositing():\n",
    "    account_number = int(input('Enter your account number: '))\n",
    "    amount = float(input('Enter amount to deposit: '))\n",
    "\n",
    "    # Read the CSV file\n",
    "    df = pd.read_csv('Bank account management.csv')\n",
    "\n",
    "    # Verify if 'account_number' exists\n",
    "    if 'account_number' not in df.columns:\n",
    "        print(\"Error: 'account_number' column missing!\")\n",
    "        return\n",
    "\n",
    "    # Check if account exists\n",
    "    if account_number in df['account_number'].values:\n",
    "        df.loc[df['account_number'] == account_number, 'amount'] += amount\n",
    "        new_balance = df.loc[df['account_number'] == account_number, 'amount'].values[0]\n",
    "        print(f\"Successfully deposited {amount}. New balance is {new_balance:.2f}\")\n",
    "    else:\n",
    "        print(\"Account number not found.\")\n",
    "\n",
    "    # Save updated data\n",
    "    df.to_csv('Bank account management.csv', index=False)\n",
    "\n",
    "depositing()\n"
   ]
  },
  {
   "cell_type": "code",
   "execution_count": 17,
   "id": "a38c252b-f1bb-40ec-b7d0-8fc77a4b7cd0",
   "metadata": {},
   "outputs": [
    {
     "name": "stdin",
     "output_type": "stream",
     "text": [
      "Enter your account number:  175133149\n",
      "Enter amount to deposit:  50000\n"
     ]
    },
    {
     "ename": "KeyError",
     "evalue": "'account_number'",
     "output_type": "error",
     "traceback": [
      "\u001b[1;31m---------------------------------------------------------------------------\u001b[0m",
      "\u001b[1;31mKeyError\u001b[0m                                  Traceback (most recent call last)",
      "File \u001b[1;32m~\\AppData\\Local\\Programs\\Python\\Python313\\Lib\\site-packages\\pandas\\core\\indexes\\base.py:3805\u001b[0m, in \u001b[0;36mIndex.get_loc\u001b[1;34m(self, key)\u001b[0m\n\u001b[0;32m   3804\u001b[0m \u001b[38;5;28;01mtry\u001b[39;00m:\n\u001b[1;32m-> 3805\u001b[0m     \u001b[38;5;28;01mreturn\u001b[39;00m \u001b[38;5;28;43mself\u001b[39;49m\u001b[38;5;241;43m.\u001b[39;49m\u001b[43m_engine\u001b[49m\u001b[38;5;241;43m.\u001b[39;49m\u001b[43mget_loc\u001b[49m\u001b[43m(\u001b[49m\u001b[43mcasted_key\u001b[49m\u001b[43m)\u001b[49m\n\u001b[0;32m   3806\u001b[0m \u001b[38;5;28;01mexcept\u001b[39;00m \u001b[38;5;167;01mKeyError\u001b[39;00m \u001b[38;5;28;01mas\u001b[39;00m err:\n",
      "File \u001b[1;32mindex.pyx:167\u001b[0m, in \u001b[0;36mpandas._libs.index.IndexEngine.get_loc\u001b[1;34m()\u001b[0m\n",
      "File \u001b[1;32mindex.pyx:196\u001b[0m, in \u001b[0;36mpandas._libs.index.IndexEngine.get_loc\u001b[1;34m()\u001b[0m\n",
      "File \u001b[1;32mpandas\\\\_libs\\\\hashtable_class_helper.pxi:7081\u001b[0m, in \u001b[0;36mpandas._libs.hashtable.PyObjectHashTable.get_item\u001b[1;34m()\u001b[0m\n",
      "File \u001b[1;32mpandas\\\\_libs\\\\hashtable_class_helper.pxi:7089\u001b[0m, in \u001b[0;36mpandas._libs.hashtable.PyObjectHashTable.get_item\u001b[1;34m()\u001b[0m\n",
      "\u001b[1;31mKeyError\u001b[0m: 'account_number'",
      "\nThe above exception was the direct cause of the following exception:\n",
      "\u001b[1;31mKeyError\u001b[0m                                  Traceback (most recent call last)",
      "Cell \u001b[1;32mIn[17], line 21\u001b[0m\n\u001b[0;32m     18\u001b[0m     \u001b[38;5;66;03m# else:\u001b[39;00m\n\u001b[0;32m     19\u001b[0m     \u001b[38;5;66;03m#     print(\"Account not found.\")\u001b[39;00m\n\u001b[0;32m     20\u001b[0m     df\u001b[38;5;241m.\u001b[39mto_csv(\u001b[38;5;124m'\u001b[39m\u001b[38;5;124mBank account management.csv\u001b[39m\u001b[38;5;124m'\u001b[39m,index\u001b[38;5;241m=\u001b[39m\u001b[38;5;28;01mFalse\u001b[39;00m)\n\u001b[1;32m---> 21\u001b[0m \u001b[43mdepositing\u001b[49m\u001b[43m(\u001b[49m\u001b[43m)\u001b[49m\n",
      "Cell \u001b[1;32mIn[17], line 9\u001b[0m, in \u001b[0;36mdepositing\u001b[1;34m()\u001b[0m\n\u001b[0;32m      6\u001b[0m     \u001b[38;5;28mprint\u001b[39m(\u001b[38;5;124m\"\u001b[39m\u001b[38;5;124mAmount must be greater than zero.\u001b[39m\u001b[38;5;124m\"\u001b[39m)\n\u001b[0;32m      7\u001b[0m     \u001b[38;5;28;01mreturn\u001b[39;00m\n\u001b[1;32m----> 9\u001b[0m account_balance\u001b[38;5;241m=\u001b[39mdf\u001b[38;5;241m.\u001b[39mloc[\u001b[43mdf\u001b[49m\u001b[43m[\u001b[49m\u001b[38;5;124;43m'\u001b[39;49m\u001b[38;5;124;43maccount_number\u001b[39;49m\u001b[38;5;124;43m'\u001b[39;49m\u001b[43m]\u001b[49m\u001b[38;5;241m==\u001b[39maccount_number,\u001b[38;5;124m'\u001b[39m\u001b[38;5;124mamount\u001b[39m\u001b[38;5;124m'\u001b[39m]\n\u001b[0;32m     11\u001b[0m \u001b[38;5;28;01mif\u001b[39;00m account_balance\u001b[38;5;241m.\u001b[39mempty:\n\u001b[0;32m     12\u001b[0m     \u001b[38;5;28mprint\u001b[39m(\u001b[38;5;124m'\u001b[39m\u001b[38;5;124maccount number empty\u001b[39m\u001b[38;5;124m'\u001b[39m)\n",
      "File \u001b[1;32m~\\AppData\\Local\\Programs\\Python\\Python313\\Lib\\site-packages\\pandas\\core\\frame.py:4102\u001b[0m, in \u001b[0;36mDataFrame.__getitem__\u001b[1;34m(self, key)\u001b[0m\n\u001b[0;32m   4100\u001b[0m \u001b[38;5;28;01mif\u001b[39;00m \u001b[38;5;28mself\u001b[39m\u001b[38;5;241m.\u001b[39mcolumns\u001b[38;5;241m.\u001b[39mnlevels \u001b[38;5;241m>\u001b[39m \u001b[38;5;241m1\u001b[39m:\n\u001b[0;32m   4101\u001b[0m     \u001b[38;5;28;01mreturn\u001b[39;00m \u001b[38;5;28mself\u001b[39m\u001b[38;5;241m.\u001b[39m_getitem_multilevel(key)\n\u001b[1;32m-> 4102\u001b[0m indexer \u001b[38;5;241m=\u001b[39m \u001b[38;5;28;43mself\u001b[39;49m\u001b[38;5;241;43m.\u001b[39;49m\u001b[43mcolumns\u001b[49m\u001b[38;5;241;43m.\u001b[39;49m\u001b[43mget_loc\u001b[49m\u001b[43m(\u001b[49m\u001b[43mkey\u001b[49m\u001b[43m)\u001b[49m\n\u001b[0;32m   4103\u001b[0m \u001b[38;5;28;01mif\u001b[39;00m is_integer(indexer):\n\u001b[0;32m   4104\u001b[0m     indexer \u001b[38;5;241m=\u001b[39m [indexer]\n",
      "File \u001b[1;32m~\\AppData\\Local\\Programs\\Python\\Python313\\Lib\\site-packages\\pandas\\core\\indexes\\base.py:3812\u001b[0m, in \u001b[0;36mIndex.get_loc\u001b[1;34m(self, key)\u001b[0m\n\u001b[0;32m   3807\u001b[0m     \u001b[38;5;28;01mif\u001b[39;00m \u001b[38;5;28misinstance\u001b[39m(casted_key, \u001b[38;5;28mslice\u001b[39m) \u001b[38;5;129;01mor\u001b[39;00m (\n\u001b[0;32m   3808\u001b[0m         \u001b[38;5;28misinstance\u001b[39m(casted_key, abc\u001b[38;5;241m.\u001b[39mIterable)\n\u001b[0;32m   3809\u001b[0m         \u001b[38;5;129;01mand\u001b[39;00m \u001b[38;5;28many\u001b[39m(\u001b[38;5;28misinstance\u001b[39m(x, \u001b[38;5;28mslice\u001b[39m) \u001b[38;5;28;01mfor\u001b[39;00m x \u001b[38;5;129;01min\u001b[39;00m casted_key)\n\u001b[0;32m   3810\u001b[0m     ):\n\u001b[0;32m   3811\u001b[0m         \u001b[38;5;28;01mraise\u001b[39;00m InvalidIndexError(key)\n\u001b[1;32m-> 3812\u001b[0m     \u001b[38;5;28;01mraise\u001b[39;00m \u001b[38;5;167;01mKeyError\u001b[39;00m(key) \u001b[38;5;28;01mfrom\u001b[39;00m\u001b[38;5;250m \u001b[39m\u001b[38;5;21;01merr\u001b[39;00m\n\u001b[0;32m   3813\u001b[0m \u001b[38;5;28;01mexcept\u001b[39;00m \u001b[38;5;167;01mTypeError\u001b[39;00m:\n\u001b[0;32m   3814\u001b[0m     \u001b[38;5;66;03m# If we have a listlike key, _check_indexing_error will raise\u001b[39;00m\n\u001b[0;32m   3815\u001b[0m     \u001b[38;5;66;03m#  InvalidIndexError. Otherwise we fall through and re-raise\u001b[39;00m\n\u001b[0;32m   3816\u001b[0m     \u001b[38;5;66;03m#  the TypeError.\u001b[39;00m\n\u001b[0;32m   3817\u001b[0m     \u001b[38;5;28mself\u001b[39m\u001b[38;5;241m.\u001b[39m_check_indexing_error(key)\n",
      "\u001b[1;31mKeyError\u001b[0m: 'account_number'"
     ]
    }
   ],
   "source": [
    "def depositing():\n",
    "    account_number =int(input('Enter your account number: '))\n",
    "    amount = float(input('Enter amount to deposit: '))\n",
    "    df=pd.read_csv('Bank account management.csv')\n",
    "    if amount <= 0:\n",
    "        print(\"Amount must be greater than zero.\")\n",
    "        return\n",
    "\n",
    "    account_balance=df.loc[df['account_number']==account_number,'amount']\n",
    "\n",
    "    if account_balance.empty:\n",
    "        print('account number empty')\n",
    "    else:\n",
    "    # if 'account_number' in df.columns:\n",
    "        # if account_number in df['account_number']:\n",
    "        df.loc[df['account_number']==account_number,'amount'] += amount\n",
    "        print(f\"Successfully deposited {amount}. New balance is {amount:.2f}\")\n",
    "    # else:\n",
    "    #     print(\"Account not found.\")\n",
    "    df.to_csv('Bank account management.csv',index=False)\n",
    "depositing()"
   ]
  },
  {
   "cell_type": "code",
   "execution_count": null,
   "id": "09855f62-17cb-467e-b0d9-0151ce24d861",
   "metadata": {},
   "outputs": [],
   "source": [
    "# Function to deposit money\n",
    "def deposit():\n",
    "    account_number = input(\"Enter your account number: \")\n",
    "    deposit_amount = float(input(\"Enter amount to deposit: \"))\n",
    "    \n",
    "    accounts = []\n",
    "    account_found = False\n",
    "    \n",
    "    # Read the CSV file and update balance if account is found\n",
    "    with open(\"accounts.csv\", mode=\"r\") as file:\n",
    "        reader = csv.reader(file)\n",
    "        for row in reader:\n",
    "            if row[1] == account_number:  # Check account number\n",
    "                account_found = True\n",
    "                current_balance = float(row[3])\n",
    "                new_balance = current_balance + deposit_amount\n",
    "                accounts.append([row[0], row[1], row[2], new_balance])\n",
    "                print(f\"Deposit successful! New balance: {new_balance:.2f}\")\n",
    "            else:\n",
    "                accounts.append(row)\n",
    "    \n",
    "    # Write updated data back to the CSV file\n",
    "    if account_found:\n",
    "        with open(\"accounts.csv\", mode=\"w\", newline=\"\") as file:\n",
    "            writer = csv.writer(file)\n",
    "            writer.writerows(accounts)\n",
    "    else:\n",
    "        print(\"Account not found.\")\n",
    "\n",
    "# Example usage\n",
    "create_account()  # Create a new account\n",
    "deposit()         # Deposit money into the account\n",
    "Explanation:"
   ]
  },
  {
   "cell_type": "code",
   "execution_count": null,
   "id": "9a8ae695-a627-4afc-869f-0fe9beb3632c",
   "metadata": {},
   "outputs": [],
   "source": [
    "def withdraw():"
   ]
  }
 ],
 "metadata": {
  "kernelspec": {
   "display_name": "Python 3 (ipykernel)",
   "language": "python",
   "name": "python3"
  },
  "language_info": {
   "codemirror_mode": {
    "name": "ipython",
    "version": 3
   },
   "file_extension": ".py",
   "mimetype": "text/x-python",
   "name": "python",
   "nbconvert_exporter": "python",
   "pygments_lexer": "ipython3",
   "version": "3.13.2"
  }
 },
 "nbformat": 4,
 "nbformat_minor": 5
}
