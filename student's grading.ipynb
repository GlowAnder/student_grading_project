{
 "cells": [
  {
   "cell_type": "code",
   "execution_count": 8,
   "id": "5c20be4c-3bc6-409b-a7b0-74d625d901f2",
   "metadata": {},
   "outputs": [],
   "source": [
    "students={}"
   ]
  },
  {
   "cell_type": "code",
   "execution_count": 9,
   "id": "812a3028-1b4e-40c0-9063-24d3e4660a67",
   "metadata": {},
   "outputs": [],
   "source": [
    "def adding_new_student():\n",
    "    student=input('enter student name: ')\n",
    "    score=input('enter grades of student separated by commas: ')\n",
    "    grades=[int(grade)for grade in score.split(',')]\n",
    "    students[student]=grades\n",
    "    # student2=input('enter student name: ')\n",
    "    # grades=input('enter grades of student separated by commas: ')\n",
    "    # student3=input('enter student name: ')\n",
    "    # grades=input('enter grades of student separated by commas: ')\n",
    "    print(f'{student} has been added with grades {grades}')"
   ]
  },
  {
   "cell_type": "code",
   "execution_count": 10,
   "id": "d78557d7-db06-473e-9c20-07df42faf585",
   "metadata": {},
   "outputs": [],
   "source": [
    "def calculating_average():\n",
    "    for student,grades in students.items():\n",
    "        average=sum(grades)/len(grades)\n",
    "        # average2=sum(grades)/len(grades)\n",
    "        # average3=sum(grades)/len(grades)\n",
    "        print(f'the average of {student}:{grades} ')"
   ]
  },
  {
   "cell_type": "code",
   "execution_count": 11,
   "id": "254826a1-75e1-43e3-b353-afba489d6884",
   "metadata": {},
   "outputs": [],
   "source": [
    "def top_student():\n",
    "    student_average=[]\n",
    "    for student,grades in students.items():\n",
    "        average=sum(grades)/len(grades)\n",
    "        student_average.append((student,average))\n",
    "    student_average.sort(key=lambda x: x[1],reverse=True)\n",
    "    top_student=student_average[0]\n",
    "    print(f'the top student is {top_student} with an average score of {top_student[1]:.2f}')"
   ]
  },
  {
   "cell_type": "code",
   "execution_count": 12,
   "id": "521c7048-09f4-4164-865c-d66b9ef82446",
   "metadata": {},
   "outputs": [],
   "source": [
    "def sorted_report():\n",
    "    sorted_data={student: sorted(grades for student in students.items())}\n",
    "    print(sorted_data)"
   ]
  },
  {
   "cell_type": "code",
   "execution_count": 13,
   "id": "0943006a-3946-46d4-b5f6-301a989417e6",
   "metadata": {},
   "outputs": [],
   "source": [
    "def menu():\n",
    "    while True:\n",
    "        print('1.adding students'\n",
    "             '2.calculating average'\n",
    "             '3.top student'\n",
    "             '4.sorted report'\n",
    "             '5.exit')\n",
    "        option=int(input('enter your choice option'))\n",
    "        if option==1:\n",
    "            adding_new_student()\n",
    "        elif option==2:\n",
    "            calculating_average()\n",
    "        elif option==3:\n",
    "            top_student()\n",
    "        elif option==4:\n",
    "            sorted_report()\n",
    "        elif option==5:\n",
    "            print('exiting....')\n",
    "            break\n",
    "        else:\n",
    "            print('invalid option')"
   ]
  },
  {
   "cell_type": "code",
   "execution_count": null,
   "id": "8de02810-4316-45f6-bcf8-9bc879efd8e6",
   "metadata": {},
   "outputs": [
    {
     "name": "stdout",
     "output_type": "stream",
     "text": [
      "1.adding students2.calculating average3.top student4.sorted report5.exit\n"
     ]
    },
    {
     "name": "stdin",
     "output_type": "stream",
     "text": [
      "enter your choice option 1\n"
     ]
    }
   ],
   "source": [
    "menu()"
   ]
  },
  {
   "cell_type": "code",
   "execution_count": null,
   "id": "d0758989-180c-4039-b2a3-14677cd43587",
   "metadata": {},
   "outputs": [],
   "source": []
  }
 ],
 "metadata": {
  "kernelspec": {
   "display_name": "Python 3 (ipykernel)",
   "language": "python",
   "name": "python3"
  },
  "language_info": {
   "codemirror_mode": {
    "name": "ipython",
    "version": 3
   },
   "file_extension": ".py",
   "mimetype": "text/x-python",
   "name": "python",
   "nbconvert_exporter": "python",
   "pygments_lexer": "ipython3",
   "version": "3.13.2"
  }
 },
 "nbformat": 4,
 "nbformat_minor": 5
}
